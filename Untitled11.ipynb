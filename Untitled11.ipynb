{
 "cells": [
  {
   "cell_type": "code",
   "execution_count": 2,
   "id": "37dfb3c0",
   "metadata": {},
   "outputs": [],
   "source": [
    "import pandas as pd"
   ]
  },
  {
   "cell_type": "code",
   "execution_count": 3,
   "id": "348dab9a",
   "metadata": {},
   "outputs": [],
   "source": [
    "file_path = r\"C:\\Users\\majji\\Downloads\\SportsKPI_Kabaddi_Dataset_for_Assessment.xlsx\"\n",
    "data = pd.read_excel(file_path)"
   ]
  },
  {
   "cell_type": "code",
   "execution_count": 4,
   "id": "34299547",
   "metadata": {},
   "outputs": [
    {
     "data": {
      "text/html": [
       "<div>\n",
       "<style scoped>\n",
       "    .dataframe tbody tr th:only-of-type {\n",
       "        vertical-align: middle;\n",
       "    }\n",
       "\n",
       "    .dataframe tbody tr th {\n",
       "        vertical-align: top;\n",
       "    }\n",
       "\n",
       "    .dataframe thead th {\n",
       "        text-align: right;\n",
       "    }\n",
       "</style>\n",
       "<table border=\"1\" class=\"dataframe\">\n",
       "  <thead>\n",
       "    <tr style=\"text-align: right;\">\n",
       "      <th></th>\n",
       "      <th>Season_ID</th>\n",
       "      <th>Match_No</th>\n",
       "      <th>Event_Number</th>\n",
       "      <th>Match_Raid_Number</th>\n",
       "      <th>Team_Raid_Number</th>\n",
       "      <th>Half</th>\n",
       "      <th>Raiding_Team_Name</th>\n",
       "      <th>Raider_Name</th>\n",
       "      <th>Number_of_Defenders</th>\n",
       "      <th>Raid_Number</th>\n",
       "      <th>Raid_Length</th>\n",
       "      <th>Outcome</th>\n",
       "      <th>Raiding_Team_Points</th>\n",
       "      <th>Defending_Team_Points</th>\n",
       "      <th>Defending_Team_Name</th>\n",
       "      <th>Defender_1_Name</th>\n",
       "      <th>Defender_2_Name</th>\n",
       "      <th>Attacking_Skill</th>\n",
       "      <th>Defensive_Skill</th>\n",
       "      <th>Counter_Action_Skill</th>\n",
       "    </tr>\n",
       "  </thead>\n",
       "  <tbody>\n",
       "    <tr>\n",
       "      <th>0</th>\n",
       "      <td>S01</td>\n",
       "      <td>1</td>\n",
       "      <td>E001</td>\n",
       "      <td>1</td>\n",
       "      <td>1</td>\n",
       "      <td>First</td>\n",
       "      <td>ADMAS UNIVERSITY</td>\n",
       "      <td>MONU</td>\n",
       "      <td>7</td>\n",
       "      <td>1</td>\n",
       "      <td>29</td>\n",
       "      <td>Empty</td>\n",
       "      <td>0</td>\n",
       "      <td>0</td>\n",
       "      <td>GKTU TALWANDI SABO</td>\n",
       "      <td></td>\n",
       "      <td></td>\n",
       "      <td></td>\n",
       "      <td></td>\n",
       "      <td></td>\n",
       "    </tr>\n",
       "    <tr>\n",
       "      <th>1</th>\n",
       "      <td>S01</td>\n",
       "      <td>1</td>\n",
       "      <td>E002</td>\n",
       "      <td>2</td>\n",
       "      <td>1</td>\n",
       "      <td>First</td>\n",
       "      <td>GKTU TALWANDI SABO</td>\n",
       "      <td>HIMANSHU</td>\n",
       "      <td>7</td>\n",
       "      <td>1</td>\n",
       "      <td>22</td>\n",
       "      <td>Successful</td>\n",
       "      <td>1</td>\n",
       "      <td>0</td>\n",
       "      <td>ADMAS UNIVERSITY</td>\n",
       "      <td>GOURAV</td>\n",
       "      <td></td>\n",
       "      <td></td>\n",
       "      <td>Ankle hold</td>\n",
       "      <td>Release</td>\n",
       "    </tr>\n",
       "    <tr>\n",
       "      <th>2</th>\n",
       "      <td>S01</td>\n",
       "      <td>1</td>\n",
       "      <td>E003</td>\n",
       "      <td>3</td>\n",
       "      <td>2</td>\n",
       "      <td>First</td>\n",
       "      <td>ADMAS UNIVERSITY</td>\n",
       "      <td>RAHUL</td>\n",
       "      <td>7</td>\n",
       "      <td>2</td>\n",
       "      <td>14</td>\n",
       "      <td>Unsuccessful</td>\n",
       "      <td>0</td>\n",
       "      <td>1</td>\n",
       "      <td>GKTU TALWANDI SABO</td>\n",
       "      <td>DEEPAK</td>\n",
       "      <td>GAURAV CHILLAR</td>\n",
       "      <td></td>\n",
       "      <td>Body hold</td>\n",
       "      <td>Struggle</td>\n",
       "    </tr>\n",
       "    <tr>\n",
       "      <th>3</th>\n",
       "      <td>S01</td>\n",
       "      <td>1</td>\n",
       "      <td>E004</td>\n",
       "      <td>4</td>\n",
       "      <td>2</td>\n",
       "      <td>First</td>\n",
       "      <td>GKTU TALWANDI SABO</td>\n",
       "      <td>MANJEET</td>\n",
       "      <td>5</td>\n",
       "      <td>1</td>\n",
       "      <td>23</td>\n",
       "      <td>Empty</td>\n",
       "      <td>0</td>\n",
       "      <td>0</td>\n",
       "      <td>ADMAS UNIVERSITY</td>\n",
       "      <td></td>\n",
       "      <td></td>\n",
       "      <td></td>\n",
       "      <td></td>\n",
       "      <td></td>\n",
       "    </tr>\n",
       "    <tr>\n",
       "      <th>4</th>\n",
       "      <td>S01</td>\n",
       "      <td>1</td>\n",
       "      <td>E005</td>\n",
       "      <td>5</td>\n",
       "      <td>3</td>\n",
       "      <td>First</td>\n",
       "      <td>ADMAS UNIVERSITY</td>\n",
       "      <td>RAHUL</td>\n",
       "      <td>7</td>\n",
       "      <td>1</td>\n",
       "      <td>20</td>\n",
       "      <td>Successful</td>\n",
       "      <td>1</td>\n",
       "      <td>0</td>\n",
       "      <td>GKTU TALWANDI SABO</td>\n",
       "      <td>MANJEET</td>\n",
       "      <td></td>\n",
       "      <td>Running hand touch</td>\n",
       "      <td></td>\n",
       "      <td></td>\n",
       "    </tr>\n",
       "    <tr>\n",
       "      <th>...</th>\n",
       "      <td>...</td>\n",
       "      <td>...</td>\n",
       "      <td>...</td>\n",
       "      <td>...</td>\n",
       "      <td>...</td>\n",
       "      <td>...</td>\n",
       "      <td>...</td>\n",
       "      <td>...</td>\n",
       "      <td>...</td>\n",
       "      <td>...</td>\n",
       "      <td>...</td>\n",
       "      <td>...</td>\n",
       "      <td>...</td>\n",
       "      <td>...</td>\n",
       "      <td>...</td>\n",
       "      <td>...</td>\n",
       "      <td>...</td>\n",
       "      <td>...</td>\n",
       "      <td>...</td>\n",
       "      <td>...</td>\n",
       "    </tr>\n",
       "    <tr>\n",
       "      <th>898</th>\n",
       "      <td>S01</td>\n",
       "      <td>10</td>\n",
       "      <td>E083</td>\n",
       "      <td>83</td>\n",
       "      <td>0</td>\n",
       "      <td>Second</td>\n",
       "      <td>CU MOHALI</td>\n",
       "      <td>UMESH</td>\n",
       "      <td>7</td>\n",
       "      <td>1</td>\n",
       "      <td>4</td>\n",
       "      <td>Empty</td>\n",
       "      <td>0</td>\n",
       "      <td>0</td>\n",
       "      <td>GKTU TALWANDI SABO</td>\n",
       "      <td></td>\n",
       "      <td></td>\n",
       "      <td></td>\n",
       "      <td></td>\n",
       "      <td></td>\n",
       "    </tr>\n",
       "    <tr>\n",
       "      <th>899</th>\n",
       "      <td>S01</td>\n",
       "      <td>10</td>\n",
       "      <td>E084</td>\n",
       "      <td>84</td>\n",
       "      <td>0</td>\n",
       "      <td>Second</td>\n",
       "      <td>GKTU TALWANDI SABO</td>\n",
       "      <td>HIMANSHU</td>\n",
       "      <td>5</td>\n",
       "      <td>3</td>\n",
       "      <td>27</td>\n",
       "      <td>Unsuccessful</td>\n",
       "      <td>0</td>\n",
       "      <td>1</td>\n",
       "      <td>CU MOHALI</td>\n",
       "      <td>VIJAY KUMAR</td>\n",
       "      <td></td>\n",
       "      <td></td>\n",
       "      <td>Thigh hold</td>\n",
       "      <td>Struggle</td>\n",
       "    </tr>\n",
       "    <tr>\n",
       "      <th>900</th>\n",
       "      <td>S01</td>\n",
       "      <td>10</td>\n",
       "      <td>E085</td>\n",
       "      <td>85</td>\n",
       "      <td>0</td>\n",
       "      <td>Second</td>\n",
       "      <td>CU MOHALI</td>\n",
       "      <td>ROHIT</td>\n",
       "      <td>6</td>\n",
       "      <td>2</td>\n",
       "      <td>23</td>\n",
       "      <td>Empty</td>\n",
       "      <td>0</td>\n",
       "      <td>0</td>\n",
       "      <td>GKTU TALWANDI SABO</td>\n",
       "      <td></td>\n",
       "      <td></td>\n",
       "      <td></td>\n",
       "      <td></td>\n",
       "      <td></td>\n",
       "    </tr>\n",
       "    <tr>\n",
       "      <th>901</th>\n",
       "      <td>S01</td>\n",
       "      <td>10</td>\n",
       "      <td>E086</td>\n",
       "      <td>86</td>\n",
       "      <td>0</td>\n",
       "      <td>Second</td>\n",
       "      <td>GKTU TALWANDI SABO</td>\n",
       "      <td>MANJEET</td>\n",
       "      <td>6</td>\n",
       "      <td>1</td>\n",
       "      <td>25</td>\n",
       "      <td>Empty</td>\n",
       "      <td>0</td>\n",
       "      <td>0</td>\n",
       "      <td>CU MOHALI</td>\n",
       "      <td></td>\n",
       "      <td></td>\n",
       "      <td></td>\n",
       "      <td></td>\n",
       "      <td></td>\n",
       "    </tr>\n",
       "    <tr>\n",
       "      <th>902</th>\n",
       "      <td>S01</td>\n",
       "      <td>10</td>\n",
       "      <td>E087</td>\n",
       "      <td>87</td>\n",
       "      <td>0</td>\n",
       "      <td>Second</td>\n",
       "      <td>CU MOHALI</td>\n",
       "      <td>UMESH</td>\n",
       "      <td>6</td>\n",
       "      <td>3</td>\n",
       "      <td>22</td>\n",
       "      <td>Successful</td>\n",
       "      <td>1</td>\n",
       "      <td>0</td>\n",
       "      <td>GKTU TALWANDI SABO</td>\n",
       "      <td></td>\n",
       "      <td></td>\n",
       "      <td></td>\n",
       "      <td></td>\n",
       "      <td></td>\n",
       "    </tr>\n",
       "  </tbody>\n",
       "</table>\n",
       "<p>903 rows × 20 columns</p>\n",
       "</div>"
      ],
      "text/plain": [
       "    Season_ID  Match_No Event_Number  Match_Raid_Number  Team_Raid_Number  \\\n",
       "0         S01         1         E001                  1                 1   \n",
       "1         S01         1         E002                  2                 1   \n",
       "2         S01         1         E003                  3                 2   \n",
       "3         S01         1         E004                  4                 2   \n",
       "4         S01         1         E005                  5                 3   \n",
       "..        ...       ...          ...                ...               ...   \n",
       "898       S01        10         E083                 83                 0   \n",
       "899       S01        10         E084                 84                 0   \n",
       "900       S01        10         E085                 85                 0   \n",
       "901       S01        10         E086                 86                 0   \n",
       "902       S01        10         E087                 87                 0   \n",
       "\n",
       "       Half   Raiding_Team_Name Raider_Name  Number_of_Defenders  Raid_Number  \\\n",
       "0     First    ADMAS UNIVERSITY        MONU                    7            1   \n",
       "1     First  GKTU TALWANDI SABO    HIMANSHU                    7            1   \n",
       "2     First    ADMAS UNIVERSITY       RAHUL                    7            2   \n",
       "3     First  GKTU TALWANDI SABO     MANJEET                    5            1   \n",
       "4     First    ADMAS UNIVERSITY       RAHUL                    7            1   \n",
       "..      ...                 ...         ...                  ...          ...   \n",
       "898  Second           CU MOHALI       UMESH                    7            1   \n",
       "899  Second  GKTU TALWANDI SABO    HIMANSHU                    5            3   \n",
       "900  Second           CU MOHALI       ROHIT                    6            2   \n",
       "901  Second  GKTU TALWANDI SABO     MANJEET                    6            1   \n",
       "902  Second           CU MOHALI       UMESH                    6            3   \n",
       "\n",
       "     Raid_Length       Outcome  Raiding_Team_Points  Defending_Team_Points  \\\n",
       "0             29         Empty                    0                      0   \n",
       "1             22    Successful                    1                      0   \n",
       "2             14  Unsuccessful                    0                      1   \n",
       "3             23         Empty                    0                      0   \n",
       "4             20    Successful                    1                      0   \n",
       "..           ...           ...                  ...                    ...   \n",
       "898            4         Empty                    0                      0   \n",
       "899           27  Unsuccessful                    0                      1   \n",
       "900           23         Empty                    0                      0   \n",
       "901           25         Empty                    0                      0   \n",
       "902           22    Successful                    1                      0   \n",
       "\n",
       "    Defending_Team_Name Defender_1_Name Defender_2_Name     Attacking_Skill  \\\n",
       "0    GKTU TALWANDI SABO                                                       \n",
       "1      ADMAS UNIVERSITY          GOURAV                                       \n",
       "2    GKTU TALWANDI SABO          DEEPAK  GAURAV CHILLAR                       \n",
       "3      ADMAS UNIVERSITY                                                       \n",
       "4    GKTU TALWANDI SABO         MANJEET                  Running hand touch   \n",
       "..                  ...             ...             ...                 ...   \n",
       "898  GKTU TALWANDI SABO                                                       \n",
       "899           CU MOHALI     VIJAY KUMAR                                       \n",
       "900  GKTU TALWANDI SABO                                                       \n",
       "901           CU MOHALI                                                       \n",
       "902  GKTU TALWANDI SABO                                                       \n",
       "\n",
       "    Defensive_Skill Counter_Action_Skill  \n",
       "0                                         \n",
       "1        Ankle hold              Release  \n",
       "2         Body hold             Struggle  \n",
       "3                                         \n",
       "4                                         \n",
       "..              ...                  ...  \n",
       "898                                       \n",
       "899      Thigh hold             Struggle  \n",
       "900                                       \n",
       "901                                       \n",
       "902                                       \n",
       "\n",
       "[903 rows x 20 columns]"
      ]
     },
     "execution_count": 4,
     "metadata": {},
     "output_type": "execute_result"
    }
   ],
   "source": [
    "data"
   ]
  },
  {
   "cell_type": "code",
   "execution_count": 5,
   "id": "4068f56d",
   "metadata": {},
   "outputs": [],
   "source": [
    "raiding_total_raids = data.shape[0]\n",
    "raiding_successful_raids = data[data['Outcome'] == 'Successful' ].shape[0]"
   ]
  },
  {
   "cell_type": "code",
   "execution_count": 6,
   "id": "b6474f0f",
   "metadata": {},
   "outputs": [
    {
     "name": "stdout",
     "output_type": "stream",
     "text": [
      "Overall Raiding Team’s Total Raids: 903\n",
      "Overall Raiding Team’s Successful Raids: 301\n"
     ]
    }
   ],
   "source": [
    "print(\"Overall Raiding Team’s Total Raids:\", raiding_total_raids)\n",
    "print(\"Overall Raiding Team’s Successful Raids:\", raiding_successful_raids)"
   ]
  },
  {
   "cell_type": "code",
   "execution_count": 33,
   "id": "712b551c",
   "metadata": {},
   "outputs": [
    {
     "name": "stdout",
     "output_type": "stream",
     "text": [
      "Overall Raiding Team’s Total Raids: Raiding_Team_Name\n",
      "ADMAS UNIVERSITY      140\n",
      "CU MOHALI             131\n",
      "GKTU TALWANDI SABO    228\n",
      "KOTA UNIVERSITY       139\n",
      "S.R.M UNIVERSITY      171\n",
      "VELS UNIVERSITY        94\n",
      "dtype: int64\n",
      "Overall Raiding Team’s Successful Raids: Raiding_Team_Name\n",
      "ADMAS UNIVERSITY      52\n",
      "CU MOHALI             30\n",
      "GKTU TALWANDI SABO    52\n",
      "KOTA UNIVERSITY       28\n",
      "S.R.M UNIVERSITY      50\n",
      "VELS UNIVERSITY       26\n",
      "dtype: int64\n"
     ]
    }
   ],
   "source": [
    "raiding_total_raids=data.groupby('Raiding_Team_Name').size()\n",
    "raiding_successful_raids=data[data['Outcome']=='Successful'].groupby('Raiding_Team_Name').size()\n",
    "print(\"Overall Raiding Team’s Total Raids:\", raiding_total_raids)\n",
    "print(\"Overall Raiding Team’s Successful Raids:\", raiding_successful_raids)"
   ]
  },
  {
   "cell_type": "code",
   "execution_count": 7,
   "id": "ab93bee1",
   "metadata": {},
   "outputs": [],
   "source": [
    "defending_total_tackles = data[(data['Outcome'] == 'Successful') | (data['Outcome'] == 'Unsuccessful')].shape[0]\n",
    "defending_successful_tackles = data[(data['Outcome'] == 'Unsuccessful')].shape[0]"
   ]
  },
  {
   "cell_type": "code",
   "execution_count": 8,
   "id": "a3a79327",
   "metadata": {},
   "outputs": [
    {
     "name": "stdout",
     "output_type": "stream",
     "text": [
      "Overall Defending Team’s Total Tackles: 539\n",
      "Overall Defending Team’s Successful Tackles: 238\n"
     ]
    }
   ],
   "source": [
    "print(\"Overall Defending Team’s Total Tackles:\", defending_total_tackles)\n",
    "print(\"Overall Defending Team’s Successful Tackles:\", defending_successful_tackles)"
   ]
  },
  {
   "cell_type": "code",
   "execution_count": 36,
   "id": "a88d025f",
   "metadata": {},
   "outputs": [],
   "source": [
    "defending_total_tackles = data[(data['Outcome'] == 'Successful') | (data['Outcome'] == 'Unsuccessful')].groupby('Defending_Team_Name').size()\n",
    "defending_successful_tackles = data[(data['Outcome'] == 'Unsuccessful')].groupby('Defending_Team_Name').size()"
   ]
  },
  {
   "cell_type": "code",
   "execution_count": 37,
   "id": "f8c8a78c",
   "metadata": {},
   "outputs": [
    {
     "name": "stdout",
     "output_type": "stream",
     "text": [
      "Overall Defending Team’s Total Tackles: Defending_Team_Name\n",
      "ADMAS UNIVERSITY       90\n",
      "CU MOHALI              85\n",
      "GKTU TALWANDI SABO    135\n",
      "KOTA UNIVERSITY        87\n",
      "S.R.M UNIVERSITY       84\n",
      "VELS UNIVERSITY        58\n",
      "dtype: int64\n",
      "Overall Defending Team’s Successful Tackles: Defending_Team_Name\n",
      "ADMAS UNIVERSITY      56\n",
      "CU MOHALI             53\n",
      "GKTU TALWANDI SABO    70\n",
      "KOTA UNIVERSITY       37\n",
      "S.R.M UNIVERSITY      45\n",
      "VELS UNIVERSITY       40\n",
      "dtype: int64\n"
     ]
    }
   ],
   "source": [
    "print(\"Overall Defending Team’s Total Tackles:\", defending_total_tackles)\n",
    "print(\"Overall Defending Team’s Successful Tackles:\", defending_successful_tackles)"
   ]
  },
  {
   "cell_type": "code",
   "execution_count": 9,
   "id": "4c3f0cec",
   "metadata": {},
   "outputs": [],
   "source": [
    "raiding_successful_raids_6_7_def_teams = data[(data['Outcome'] == 'Successful') & ((data['Number_of_Defenders'] == 6) | (data['Number_of_Defenders'] == 7))]['Raiding_Team_Name'].unique()"
   ]
  },
  {
   "cell_type": "code",
   "execution_count": 10,
   "id": "67c01c11",
   "metadata": {},
   "outputs": [
    {
     "name": "stdout",
     "output_type": "stream",
     "text": [
      "Raiding Team’s Successful Raids against 6-7 Defenders ONLY:\n",
      "GKTU TALWANDI SABO\n",
      "ADMAS UNIVERSITY\n",
      "KOTA UNIVERSITY\n",
      "S.R.M UNIVERSITY\n",
      "CU MOHALI\n",
      "VELS UNIVERSITY\n"
     ]
    }
   ],
   "source": [
    "# Display the unique raiding team names\n",
    "print(\"Raiding Team’s Successful Raids against 6-7 Defenders ONLY:\")\n",
    "for team in raiding_successful_raids_6_7_def_teams:\n",
    "    print(team)"
   ]
  },
  {
   "cell_type": "code",
   "execution_count": 11,
   "id": "1358bc63",
   "metadata": {},
   "outputs": [],
   "source": [
    "Defending_Team_Successful_Tackles_against_1_2_3_Defenders= data[(data['Outcome']=='Unsuccessful') & ((data['Number_of_Defenders']==1)|(data['Number_of_Defenders']==2)|(data['Number_of_Defenders']==3))]['Defending_Team_Name'].unique()"
   ]
  },
  {
   "cell_type": "code",
   "execution_count": 12,
   "id": "e6282214",
   "metadata": {},
   "outputs": [
    {
     "name": "stdout",
     "output_type": "stream",
     "text": [
      "Defending_Team_Successful_Tackles_against_1_2_3_Defenders:\n",
      "ADMAS UNIVERSITY\n",
      "GKTU TALWANDI SABO\n",
      "KOTA UNIVERSITY\n",
      "VELS UNIVERSITY\n",
      "CU MOHALI\n",
      "S.R.M UNIVERSITY\n"
     ]
    }
   ],
   "source": [
    "print(\"Defending_Team_Successful_Tackles_against_1_2_3_Defenders:\")\n",
    "for team in Defending_Team_Successful_Tackles_against_1_2_3_Defenders:\n",
    "    print(team)"
   ]
  },
  {
   "cell_type": "code",
   "execution_count": 13,
   "id": "daf81ec2",
   "metadata": {},
   "outputs": [],
   "source": [
    "grouped_data = data[data['Raid_Number'] == 3].groupby('Raiding_Team_Name')"
   ]
  },
  {
   "cell_type": "code",
   "execution_count": 14,
   "id": "3a77cd7a",
   "metadata": {},
   "outputs": [],
   "source": [
    "team_success_ratios = {}"
   ]
  },
  {
   "cell_type": "code",
   "execution_count": 15,
   "id": "77434c16",
   "metadata": {},
   "outputs": [],
   "source": [
    "for team, group in grouped_data:\n",
    "    # Count total number of Do_or_Die Raids for the team\n",
    "    total_do_or_die_raids_team = group.shape[0]\n",
    "    \n",
    "    succ_do_or_die_raids_team = group[group['Outcome'] == 'Successful'].shape[0]\n",
    "    \n",
    "    success_ratio = succ_do_or_die_raids_team / total_do_or_die_raids_team if total_do_or_die_raids_team != 0 else 0\n",
    "    \n",
    "    team_success_ratios[team] = success_ratio"
   ]
  },
  {
   "cell_type": "code",
   "execution_count": 16,
   "id": "afd6e207",
   "metadata": {},
   "outputs": [
    {
     "name": "stdout",
     "output_type": "stream",
     "text": [
      "Success Ratios of Do_or_Die Raids for Each Raiding Team:\n",
      "ADMAS UNIVERSITY: 0.3333333333333333\n",
      "CU MOHALI: 0.4\n",
      "GKTU TALWANDI SABO: 0.4444444444444444\n",
      "KOTA UNIVERSITY: 0.48\n",
      "S.R.M UNIVERSITY: 0.2692307692307692\n",
      "VELS UNIVERSITY: 0.5555555555555556\n"
     ]
    }
   ],
   "source": [
    "print(\"Success Ratios of Do_or_Die Raids for Each Raiding Team:\")\n",
    "for team, ratio in team_success_ratios.items():\n",
    "    print(f\"{team}: {ratio}\")"
   ]
  },
  {
   "cell_type": "code",
   "execution_count": 17,
   "id": "cb2ced77",
   "metadata": {},
   "outputs": [
    {
     "name": "stdout",
     "output_type": "stream",
     "text": [
      "Most Successful Raider: HIMANSHU\n"
     ]
    }
   ],
   "source": [
    "raider_success_counts=data[(data['Outcome']=='Successful')]['Raider_Name'].value_counts()\n",
    "most_successful_raider = raider_success_counts.idxmax()\n",
    "print(\"Most Successful Raider:\", most_successful_raider)"
   ]
  },
  {
   "cell_type": "code",
   "execution_count": 18,
   "id": "7bace38c",
   "metadata": {},
   "outputs": [],
   "source": [
    "import matplotlib.pyplot as plt\n"
   ]
  },
  {
   "cell_type": "code",
   "execution_count": 19,
   "id": "88e552de",
   "metadata": {},
   "outputs": [
    {
     "data": {
      "image/png": "[encoded data removed]",
      "text/plain": [
       "<Figure size 576x432 with 1 Axes>"
      ]
     },
     "metadata": {
      "needs_background": "light"
     },
     "output_type": "display_data"
    }
   ],
   "source": [
    "raider_name = 'HIMANSHU'  # Replace 'Raider_X' with actual raider's name\n",
    "raids_distribution = data[data['Raider_Name'] == raider_name]['Outcome'].value_counts()\n",
    "plt.figure(figsize=(8, 6))\n",
    "raids_distribution.plot(kind='bar', color=['green', 'yellow','red'])\n",
    "plt.title('Distribution of Raids for ' + raider_name)\n",
    "plt.xlabel('Outcome')\n",
    "plt.ylabel('Count')\n",
    "plt.xticks(rotation=0)\n",
    "plt.show()\n"
   ]
  },
  {
   "cell_type": "code",
   "execution_count": 20,
   "id": "4a2d6913",
   "metadata": {},
   "outputs": [],
   "source": [
    "do_or_die_raider_count=data[(data['Outcome']=='Successful') & (data['Raid_Number']==3)]['Raider_Name'].value_counts()\n",
    "sucessful_do_or_die_raider=do_or_die_raider_count.idxmax()"
   ]
  },
  {
   "cell_type": "code",
   "execution_count": 21,
   "id": "f35ad456",
   "metadata": {},
   "outputs": [
    {
     "name": "stdout",
     "output_type": "stream",
     "text": [
      "Most Successful do or die Raider : HIMANSHU\n"
     ]
    }
   ],
   "source": [
    "print(\"Most Successful do or die Raider :\",sucessful_do_or_die_raider)"
   ]
  },
  {
   "cell_type": "code",
   "execution_count": 22,
   "id": "694b4a59",
   "metadata": {},
   "outputs": [
    {
     "name": "stdout",
     "output_type": "stream",
     "text": [
      "Most Successful Raider: ('SUMIT', 'DEEPAK')\n"
     ]
    }
   ],
   "source": [
    "defender_success_counts=data[(data['Counter_Action_Skill']=='Struggle')][['Defender_1_Name', 'Defender_2_Name']].value_counts()\n",
    "Most_successful_defender= defender_success_counts.idxmax()\n",
    "print(\"Most Successful Raider:\", Most_successful_defender)"
   ]
  },
  {
   "cell_type": "code",
   "execution_count": 27,
   "id": "2efce1c0",
   "metadata": {},
   "outputs": [
    {
     "data": {
      "image/png": "[encoded data removed]",
      "text/plain": [
       "<Figure size 576x432 with 1 Axes>"
      ]
     },
     "metadata": {
      "needs_background": "light"
     },
     "output_type": "display_data"
    }
   ],
   "source": [
    "# Distribution of Tackles for a Defender\n",
    "defender_name = 'SUMIT'  # Replace 'Defender_Y' with actual defender's name\n",
    "data['Outcome'] = data['Outcome'].map({'Successful': 'Unsuccessful', 'Unsuccessful': 'Successful'})\n",
    "tackles_distribution = data[data[['Defender_1_Name', 'Defender_2_Name']].isin([defender_name]).any(axis=1)]['Outcome'].value_counts()\n",
    "plt.figure(figsize=(8, 6))\n",
    "tackles_distribution.plot(kind='bar', color=['green', 'red'])\n",
    "plt.title('Distribution of Tackles for ' + defender_name)\n",
    "plt.xlabel('Outcome')\n",
    "plt.ylabel('Count')\n",
    "plt.xticks(rotation=0)\n",
    "plt.show()"
   ]
  },
  {
   "cell_type": "code",
   "execution_count": 30,
   "id": "9a2c637b",
   "metadata": {},
   "outputs": [
    {
     "data": {
      "image/png": "[encoded data removed]",
      "text/plain": [
       "<Figure size 720x432 with 1 Axes>"
      ]
     },
     "metadata": {
      "needs_background": "light"
     },
     "output_type": "display_data"
    }
   ],
   "source": [
    "import matplotlib.pyplot as plt\n",
    "\n",
    "raider_name = 'HIMANSHU'  # Replace 'HIMANSHU' with the actual raider's name\n",
    "\n",
    "# Filter the data for the specified raider and non-empty attacking skills\n",
    "raider_data = data[(data['Raider_Name'] == raider_name) & (data['Attacking_Skill'].notnull()) & (data['Attacking_Skill'] != ' ')]\n",
    "\n",
    "# Calculate the distribution of attacking skills for the raider\n",
    "attacking_skills_distribution = raider_data['Attacking_Skill'].value_counts()\n",
    "\n",
    "# Plot the distribution\n",
    "plt.figure(figsize=(10, 6))\n",
    "attacking_skills_distribution.plot(kind='bar', color='blue')\n",
    "plt.title('Attacking Skills Distribution for ' + raider_name)\n",
    "plt.xlabel('Attacking Skill')\n",
    "plt.ylabel('Count')\n",
    "plt.xticks(rotation=45)\n",
    "plt.show()\n"
   ]
  },
  {
   "cell_type": "code",
   "execution_count": 32,
   "id": "f582c841",
   "metadata": {},
   "outputs": [
    {
     "data": {
      "image/png": "[encoded data removed]",
      "text/plain": [
       "<Figure size 720x432 with 1 Axes>"
      ]
     },
     "metadata": {
      "needs_background": "light"
     },
     "output_type": "display_data"
    }
   ],
   "source": [
    "defender_name = 'SUMIT'  # Replace 'SUMIT' with the actual defender's name\n",
    "\n",
    "# Filter the data for the specified defender and non-null defensive skills\n",
    "defender_data = data[((data['Defender_1_Name'] == defender_name) | (data['Defender_2_Name'] == defender_name)) & \n",
    "                     (data['Defensive_Skill'].notnull()) & (data['Defensive_Skill'] != ' ')]\n",
    "\n",
    "# Calculate the distribution of defensive skills for the defender\n",
    "defensive_skills_distribution = defender_data['Defensive_Skill'].value_counts()\n",
    "\n",
    "# Plot the distribution\n",
    "plt.figure(figsize=(10, 6))\n",
    "defensive_skills_distribution.plot(kind='bar', color='green')\n",
    "plt.title('Defensive Skills Distribution for ' + defender_name)\n",
    "plt.xlabel('Defensive Skill')\n",
    "plt.ylabel('Count')\n",
    "plt.xticks(rotation=45)\n",
    "plt.show()\n"
   ]
  },
  {
   "cell_type": "code",
   "execution_count": null,
   "id": "035346c3",
   "metadata": {},
   "outputs": [],
   "source": []
  }
 ],
 "metadata": {
  "kernelspec": {
   "display_name": "Python 3 (ipykernel)",
   "language": "python",
   "name": "python3"
  },
  "language_info": {
   "codemirror_mode": {
    "name": "ipython",
    "version": 3
   },
   "file_extension": ".py",
   "mimetype": "text/x-python",
   "name": "python",
   "nbconvert_exporter": "python",
   "pygments_lexer": "ipython3",
   "version": "3.9.7"
  }
 },
 "nbformat": 4,
 "nbformat_minor": 5
}
